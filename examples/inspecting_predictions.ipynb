{
 "cells": [
  {
   "cell_type": "code",
   "execution_count": null,
   "metadata": {},
   "outputs": [],
   "source": [
    "from pathlib import Path\n",
    "\n",
    "from sykepic.analysis.viewer import PredictionViewer"
   ]
  },
  {
   "cell_type": "code",
   "execution_count": null,
   "metadata": {},
   "outputs": [],
   "source": [
    "# PredictionViewer takes 2 required and 3 optional arguments\n",
    "\n",
    "# Required arguments\n",
    "\n",
    "# First argument is a path or list of paths to prediction csv-file(s).  \n",
    "# Here I am using all the example samples available for July 2018.\n",
    "prediction_csv = sorted(Path('predictions').glob('2018/07/**/*.csv'))\n",
    "\n",
    "# The second argument is a path to the root directory with raw IFCB data.\n",
    "raw_dir = 'raw'\n",
    "\n",
    "# Optional arguments\n",
    "\n",
    "# work_dir is a directory that is created for the extraction of images from raw data.\n",
    "# The default work_dir is the one below (./PredictionViewer), if it is not specified.\n",
    "work_dir = 'PredictionViewer'\n",
    "\n",
    "# This determines whether PredictonViewer is used for inspection or labeling.\n",
    "# We want it False in this case, which is also the default.\n",
    "label = False\n",
    "\n",
    "# Setting this to True means that the extracted images will not be removed when program exits.\n",
    "# It might save some time but is not necessary.\n",
    "keep_images = False"
   ]
  },
  {
   "cell_type": "code",
   "execution_count": null,
   "metadata": {},
   "outputs": [],
   "source": [
    "# Create a PredictionViewer with the above arguments\n",
    "viewer = PredictionViewer(prediction_csv, raw_dir, work_dir, label, keep_images)"
   ]
  },
  {
   "cell_type": "code",
   "execution_count": null,
   "metadata": {},
   "outputs": [],
   "source": [
    "# You call viewer.start() to start the program. It has a few optional arguments as well.\n",
    "\n",
    "# The number of images to display per page\n",
    "per_page = 12\n",
    "\n",
    "# Setting class_inspect to True means that each predicted class is displayed on a separate page.\n",
    "# This is especially useful for inspecting class confidence thresholds.\n",
    "# In this case, per_page is the maximum number of images to show per class.\n",
    "class_inspect = False\n",
    "\n",
    "# Display images in the order of prediction confidence, which is the default.\n",
    "# Setting this to False would use the ROI order.\n",
    "sort_by_confidence = True\n",
    "\n",
    "# Sort order. So when this is True, the lowest confidence predictions are show first.\n",
    "ascending = True\n",
    "\n",
    "# Show results only for a single class (string) or a list of classes (list of strings).\n",
    "prediction_filter = None"
   ]
  },
  {
   "cell_type": "code",
   "execution_count": null,
   "metadata": {},
   "outputs": [],
   "source": [
    "# Start the program\n",
    "viewer.start(per_page, class_inspect, sort_by_confidence, ascending, prediction_filter)"
   ]
  },
  {
   "cell_type": "code",
   "execution_count": null,
   "metadata": {},
   "outputs": [],
   "source": []
  }
 ],
 "metadata": {
  "kernelspec": {
   "display_name": "Python 3",
   "language": "python",
   "name": "python3"
  },
  "language_info": {
   "codemirror_mode": {
    "name": "ipython",
    "version": 3
   },
   "file_extension": ".py",
   "mimetype": "text/x-python",
   "name": "python",
   "nbconvert_exporter": "python",
   "pygments_lexer": "ipython3",
   "version": "3.8.3"
  }
 },
 "nbformat": 4,
 "nbformat_minor": 4
}
