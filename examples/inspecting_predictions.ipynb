{
 "cells": [
  {
   "cell_type": "code",
   "execution_count": null,
   "metadata": {},
   "outputs": [],
   "source": [
    "from pathlib import Path\n",
    "\n",
    "from sykepic.analysis.viewer import PredictionViewer"
   ]
  },
  {
   "cell_type": "code",
   "execution_count": null,
   "metadata": {},
   "outputs": [],
   "source": [
    "# Path to a prediction CSV-file or a list of these paths.\n",
    "# Here I am using all the example samples available for July 2018.\n",
    "predictions = sorted(Path('predictions').glob('2018/07/**/*.csv'))\n",
    "\n",
    "# Path to the root directory with raw IFCB data.\n",
    "raw_dir = 'raw'\n",
    "\n",
    "# Directory that is created for the extracted images and progress files.\n",
    "work_dir = 'PredictionViewer'\n",
    "\n",
    "# Use PredictonViewer for labeling (see manual_labeling.ipynb).\n",
    "label = False\n",
    "\n",
    "# Use PredictonViewer for evaluation (see model_evaluation.ipynb).\n",
    "evaluate = False\n",
    "\n",
    "# Class specific thresholds that determine the minimum probability \n",
    "# required for a classification. It can be single float value (e.g. 0.7),\n",
    "# or a path to an exteranl file with class specific thresholds.\n",
    "# See this example file for formatting.\n",
    "thresholds = 'confidence_thresholds.txt'\n",
    "\n",
    "# Name used for unclassified images (not relevant for inspection)\n",
    "empty = 'unclassifiable'\n",
    "\n",
    "# Don't remove extracted images when the program exits.\n",
    "keep_images = False\n",
    "\n",
    "# Create the viewer object\n",
    "viewer = PredictionViewer(predictions, raw_dir, work_dir, label,\n",
    "                          evaluate, thresholds, empty, keep_images)"
   ]
  },
  {
   "cell_type": "code",
   "execution_count": null,
   "metadata": {},
   "outputs": [],
   "source": [
    "# Call viewer.start() to start the program. It has a few optional arguments as well.\n",
    "\n",
    "# The number of images to display per page\n",
    "per_page = 12\n",
    "\n",
    "# Display images in the order of prediction confidence.\n",
    "sort_by_confidence = True\n",
    "\n",
    "# Display images in the order of predicted class.\n",
    "# Setting both `sort_by_confidence` and `sort_by_class` to False will order by the ROI number. \n",
    "sort_by_class = False\n",
    "\n",
    "# Sort in an ascending order\n",
    "ascending = False\n",
    "\n",
    "# Display each class on a separate page. If the number of images per class\n",
    "# is bigger than `per_page`, a representative sample of them will be selected.\n",
    "# Useful for inspection.\n",
    "class_overview = True\n",
    "\n",
    "# Show only images, whose prediction match a class in this filter.\n",
    "# String or list of strings.\n",
    "prediction_filter = None\n",
    "\n",
    "# Discard classes with the above filter.\n",
    "inverse_prediction_filter = False\n",
    "\n",
    "# Select starting page\n",
    "start_page = 1\n",
    "\n",
    "# Start the program\n",
    "viewer.start(per_page, sort_by_confidence, sort_by_class, \n",
    "             ascending, class_overview, prediction_filter,\n",
    "             inverse_prediction_filter, start_page)"
   ]
  },
  {
   "cell_type": "code",
   "execution_count": null,
   "metadata": {},
   "outputs": [],
   "source": []
  }
 ],
 "metadata": {
  "kernelspec": {
   "display_name": "Python 3",
   "language": "python",
   "name": "python3"
  },
  "language_info": {
   "codemirror_mode": {
    "name": "ipython",
    "version": 3
   },
   "file_extension": ".py",
   "mimetype": "text/x-python",
   "name": "python",
   "nbconvert_exporter": "python",
   "pygments_lexer": "ipython3",
   "version": "3.8.5"
  }
 },
 "nbformat": 4,
 "nbformat_minor": 4
}
