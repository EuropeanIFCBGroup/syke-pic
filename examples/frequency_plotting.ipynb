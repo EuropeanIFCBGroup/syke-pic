{
 "cells": [
  {
   "cell_type": "code",
   "execution_count": null,
   "metadata": {},
   "outputs": [],
   "source": [
    "from matplotlib import pyplot as plt\n",
    "\n",
    "from sykepic.analysis.dataframe import frequency_df, filter_df"
   ]
  },
  {
   "cell_type": "code",
   "execution_count": null,
   "metadata": {},
   "outputs": [],
   "source": [
    "# frequency_df() returns  a Pandas dataframe with class frequencies for each sample\n",
    "# It takes several arguments\n",
    "\n",
    "# Required\n",
    "\n",
    "# Root directory of all prediction CSV-files\n",
    "prediction_directory = 'predictions'\n",
    "\n",
    "# Optional\n",
    "\n",
    "# Confidence threshold repsesents the minimum probability a required for a valid prediction.\n",
    "# It can be single float value (e.g. 0.7), or a path to an exteranl file with class specific thresholds\n",
    "# The latter file must have a default value if some classes are left empty or not included in the file.\n",
    "# See this example file for formatting.\n",
    "confidence_threshold = 'confidence_threshold.txt'\n",
    "\n",
    "# Start date and time to filter samples (CSV-files) by. \n",
    "# It must follow the formatting of `date_format` (see below).\n",
    "# The reason for filtering the CSV-files before reading everything to a dataframe is because\n",
    "# prediction_directory can have a lot of data, which might not be reasonable to read to memory at once.\n",
    "start = '2018-07-01 00:00'\n",
    "\n",
    "# Same as previous but for the end.\n",
    "end = '2018-08-31 23:59'\n",
    "\n",
    "# Allow only those samples that are withing this hour window (date doesn't matter).\n",
    "# The formatting has to match the this: \"[hour]:[minute]-[hour]:[minute]\"\n",
    "# e.g. for samples taken around mid-day, you could set this to \"11:30-12:30\"\n",
    "hour_window = None\n",
    "\n",
    "# The date and time formatting used for `start` and `end`.\n",
    "# The default formatting below is this: \"[year]-[month]-[day] [hour]:[minute]\"\n",
    "date_format='%Y-%m-%d %H:%M'"
   ]
  },
  {
   "cell_type": "code",
   "execution_count": null,
   "metadata": {},
   "outputs": [],
   "source": [
    "# Create the dataframe\n",
    "df = frequency_df(prediction_directory, confidence_threshold, start, end, hour_window, date_format)\n",
    "\n",
    "# And see what it looks like\n",
    "df.head()"
   ]
  },
  {
   "cell_type": "code",
   "execution_count": null,
   "metadata": {},
   "outputs": [],
   "source": [
    "# It's probably not a good idea to show all classes in the plot.\n",
    "# You can filter df easily with the helper function: `filter_df()`\n",
    "\n",
    "# It takes as arguments the dataframe to filter and one of the following:\n",
    "\n",
    "# 1. prediction \n",
    "# One class name (string) or a list of class names (list of strings):\n",
    "prediction = ['Aphanizomenon_flosaquae', 'Oscillatoriales']\n",
    "df2 = filter_df(df, prediction=prediction)\n",
    "\n",
    "# 2. top\n",
    "# For the `top` most frequent classes\n",
    "df3 = filter_df(df, top=2)"
   ]
  },
  {
   "cell_type": "code",
   "execution_count": null,
   "metadata": {},
   "outputs": [],
   "source": [
    "# Lets plot df2\n",
    "plt.style.use('dark_background')\n",
    "df2.plot(figsize=(10, 6))\n",
    "plt.ylabel('Frequency')"
   ]
  },
  {
   "cell_type": "code",
   "execution_count": null,
   "metadata": {},
   "outputs": [],
   "source": [
    "# And df3\n",
    "plt.style.use('dark_background')\n",
    "df3.plot(figsize=(10, 6))\n",
    "plt.ylabel('Frequency')"
   ]
  },
  {
   "cell_type": "code",
   "execution_count": null,
   "metadata": {},
   "outputs": [],
   "source": []
  }
 ],
 "metadata": {
  "kernelspec": {
   "display_name": "Python 3",
   "language": "python",
   "name": "python3"
  },
  "language_info": {
   "codemirror_mode": {
    "name": "ipython",
    "version": 3
   },
   "file_extension": ".py",
   "mimetype": "text/x-python",
   "name": "python",
   "nbconvert_exporter": "python",
   "pygments_lexer": "ipython3",
   "version": "3.8.3"
  }
 },
 "nbformat": 4,
 "nbformat_minor": 4
}
