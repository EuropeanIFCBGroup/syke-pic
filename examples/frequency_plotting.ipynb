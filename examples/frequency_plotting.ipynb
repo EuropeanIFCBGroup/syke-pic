{
 "cells": [
  {
   "cell_type": "code",
   "execution_count": 2,
   "metadata": {},
   "outputs": [],
   "source": [
    "from matplotlib import pyplot as plt\n",
    "\n",
    "from sykepic.analysis.frequency import frequency_df, filter_df"
   ]
  },
  {
   "cell_type": "code",
   "execution_count": 5,
   "metadata": {},
   "outputs": [],
   "source": [
    "# Root directory prediction CSV-files\n",
    "pred_dir = 'predictions'\n",
    "\n",
    "# Confidence threshold repsesents the minimum probability a required for a valid prediction.\n",
    "# It can be single float value (e.g. 0.7), or a path to an exteranl file with class specific thresholds.\n",
    "# See this example file for formatting.\n",
    "thresholds = 'confidence_thresholds.txt'\n",
    "\n",
    "# Start date and time to filter samples (CSV-files) by. \n",
    "# It must follow the formatting of `date_format` (see below).\n",
    "# The reason for filtering the CSV-files before reading everything to a dataframe is because\n",
    "# prediction_directory can have a lot of data, which might not be reasonable to read to memory at once.\n",
    "start = '2018-07-03 00:00'\n",
    "\n",
    "# Same as previous but for the end.\n",
    "end = '2018-07-03 23:59'\n",
    "\n",
    "# Allow only those samples that are withing this hour window (date doesn't matter).\n",
    "# The formatting has to match the this: \"[hour]:[minute]-[hour]:[minute]\"\n",
    "# e.g. for samples taken around mid-day, you could set this to \"11:30-12:30\"\n",
    "hour_window = None\n",
    "\n",
    "# The date and time formatting used for `start` and `end`.\n",
    "# The default formatting below is this: \"[year]-[month]-[day] [hour]:[minute]\"\n",
    "date_format='%Y-%m-%d %H:%M'"
   ]
  },
  {
   "cell_type": "code",
   "execution_count": 6,
   "metadata": {
    "scrolled": false
   },
   "outputs": [
    {
     "name": "stdout",
     "output_type": "stream",
     "text": [
      "[INFO] Using predictions from 2 samples\n"
     ]
    },
    {
     "data": {
      "text/html": [
       "<div>\n",
       "<style scoped>\n",
       "    .dataframe tbody tr th:only-of-type {\n",
       "        vertical-align: middle;\n",
       "    }\n",
       "\n",
       "    .dataframe tbody tr th {\n",
       "        vertical-align: top;\n",
       "    }\n",
       "\n",
       "    .dataframe thead th {\n",
       "        text-align: right;\n",
       "    }\n",
       "</style>\n",
       "<table border=\"1\" class=\"dataframe\">\n",
       "  <thead>\n",
       "    <tr style=\"text-align: right;\">\n",
       "      <th></th>\n",
       "      <th>Aphanizomenon_flosaquae</th>\n",
       "      <th>Beads</th>\n",
       "      <th>Ceratoneis_closterium</th>\n",
       "      <th>Chaetoceros_sp</th>\n",
       "      <th>Chaetoceros_sp_single</th>\n",
       "      <th>Chroococcales</th>\n",
       "      <th>Ciliata</th>\n",
       "      <th>Cryptomonadales</th>\n",
       "      <th>Cryptophyceae-Teleaulax</th>\n",
       "      <th>Cyclotella_choctawhatcheeana</th>\n",
       "      <th>...</th>\n",
       "      <th>Heterocyte</th>\n",
       "      <th>Mesodinium_rubrum</th>\n",
       "      <th>Oocystis_sp</th>\n",
       "      <th>Oscillatoriales</th>\n",
       "      <th>Pennales_sp_thick</th>\n",
       "      <th>Pennales_sp_thin</th>\n",
       "      <th>Pseudopedinella_sp</th>\n",
       "      <th>Pyramimonas_sp</th>\n",
       "      <th>Skeletonema_marinoi</th>\n",
       "      <th>Uroglenopsis_sp</th>\n",
       "    </tr>\n",
       "    <tr>\n",
       "      <th></th>\n",
       "      <th></th>\n",
       "      <th></th>\n",
       "      <th></th>\n",
       "      <th></th>\n",
       "      <th></th>\n",
       "      <th></th>\n",
       "      <th></th>\n",
       "      <th></th>\n",
       "      <th></th>\n",
       "      <th></th>\n",
       "      <th></th>\n",
       "      <th></th>\n",
       "      <th></th>\n",
       "      <th></th>\n",
       "      <th></th>\n",
       "      <th></th>\n",
       "      <th></th>\n",
       "      <th></th>\n",
       "      <th></th>\n",
       "      <th></th>\n",
       "      <th></th>\n",
       "    </tr>\n",
       "  </thead>\n",
       "  <tbody>\n",
       "    <tr>\n",
       "      <th>2018-07-03 09:34:53</th>\n",
       "      <td>16.0</td>\n",
       "      <td>2.0</td>\n",
       "      <td>2.0</td>\n",
       "      <td>NaN</td>\n",
       "      <td>15.0</td>\n",
       "      <td>1.0</td>\n",
       "      <td>7.0</td>\n",
       "      <td>26.0</td>\n",
       "      <td>173.0</td>\n",
       "      <td>1.0</td>\n",
       "      <td>...</td>\n",
       "      <td>1.0</td>\n",
       "      <td>16.0</td>\n",
       "      <td>1.0</td>\n",
       "      <td>NaN</td>\n",
       "      <td>2.0</td>\n",
       "      <td>4.0</td>\n",
       "      <td>31.0</td>\n",
       "      <td>689.0</td>\n",
       "      <td>NaN</td>\n",
       "      <td>13.0</td>\n",
       "    </tr>\n",
       "    <tr>\n",
       "      <th>2018-07-03 09:58:05</th>\n",
       "      <td>17.0</td>\n",
       "      <td>NaN</td>\n",
       "      <td>2.0</td>\n",
       "      <td>3.0</td>\n",
       "      <td>13.0</td>\n",
       "      <td>NaN</td>\n",
       "      <td>10.0</td>\n",
       "      <td>32.0</td>\n",
       "      <td>164.0</td>\n",
       "      <td>NaN</td>\n",
       "      <td>...</td>\n",
       "      <td>5.0</td>\n",
       "      <td>15.0</td>\n",
       "      <td>NaN</td>\n",
       "      <td>1.0</td>\n",
       "      <td>NaN</td>\n",
       "      <td>5.0</td>\n",
       "      <td>31.0</td>\n",
       "      <td>820.0</td>\n",
       "      <td>2.0</td>\n",
       "      <td>7.0</td>\n",
       "    </tr>\n",
       "  </tbody>\n",
       "</table>\n",
       "<p>2 rows × 30 columns</p>\n",
       "</div>"
      ],
      "text/plain": [
       "                     Aphanizomenon_flosaquae  Beads  Ceratoneis_closterium  \\\n",
       "                                                                             \n",
       "2018-07-03 09:34:53                     16.0    2.0                    2.0   \n",
       "2018-07-03 09:58:05                     17.0    NaN                    2.0   \n",
       "\n",
       "                     Chaetoceros_sp  Chaetoceros_sp_single  Chroococcales  \\\n",
       "                                                                            \n",
       "2018-07-03 09:34:53             NaN                   15.0            1.0   \n",
       "2018-07-03 09:58:05             3.0                   13.0            NaN   \n",
       "\n",
       "                     Ciliata  Cryptomonadales  Cryptophyceae-Teleaulax  \\\n",
       "                                                                         \n",
       "2018-07-03 09:34:53      7.0             26.0                    173.0   \n",
       "2018-07-03 09:58:05     10.0             32.0                    164.0   \n",
       "\n",
       "                     Cyclotella_choctawhatcheeana  ...  Heterocyte  \\\n",
       "                                                   ...               \n",
       "2018-07-03 09:34:53                           1.0  ...         1.0   \n",
       "2018-07-03 09:58:05                           NaN  ...         5.0   \n",
       "\n",
       "                     Mesodinium_rubrum  Oocystis_sp  Oscillatoriales  \\\n",
       "                                                                       \n",
       "2018-07-03 09:34:53               16.0          1.0              NaN   \n",
       "2018-07-03 09:58:05               15.0          NaN              1.0   \n",
       "\n",
       "                     Pennales_sp_thick  Pennales_sp_thin  Pseudopedinella_sp  \\\n",
       "                                                                               \n",
       "2018-07-03 09:34:53                2.0               4.0                31.0   \n",
       "2018-07-03 09:58:05                NaN               5.0                31.0   \n",
       "\n",
       "                     Pyramimonas_sp  Skeletonema_marinoi  Uroglenopsis_sp  \n",
       "                                                                           \n",
       "2018-07-03 09:34:53           689.0                  NaN             13.0  \n",
       "2018-07-03 09:58:05           820.0                  2.0              7.0  \n",
       "\n",
       "[2 rows x 30 columns]"
      ]
     },
     "execution_count": 6,
     "metadata": {},
     "output_type": "execute_result"
    }
   ],
   "source": [
    "# Create the dataframe\n",
    "df = frequency_df(pred_dir, thresholds, start, end, hour_window, date_format)\n",
    "\n",
    "# And see what it looks like\n",
    "df.head()"
   ]
  },
  {
   "cell_type": "code",
   "execution_count": 7,
   "metadata": {},
   "outputs": [],
   "source": [
    "# It's probably not a good idea to show all classes in the plot.\n",
    "# You can filter df easily with the helper function: `filter_df()`\n",
    "\n",
    "# It takes as arguments the dataframe to filter and one of the following:\n",
    "\n",
    "# 1. prediction \n",
    "# One class name (string) or a list of class names (list of strings):\n",
    "prediction = ['Aphanizomenon_flosaquae', 'Oscillatoriales']\n",
    "df2 = filter_df(df, prediction=prediction)\n",
    "\n",
    "# 2. top\n",
    "# For the `top` most frequent classes\n",
    "df3 = filter_df(df, top=2)"
   ]
  },
  {
   "cell_type": "code",
   "execution_count": 8,
   "metadata": {},
   "outputs": [
    {
     "data": {
      "text/plain": [
       "Text(0, 0.5, 'Frequency')"
      ]
     },
     "execution_count": 8,
     "metadata": {},
     "output_type": "execute_result"
    },
    {
     "data": {
      "image/png": "[encoded data removed]",
      "text/plain": [
       "<Figure size 720x432 with 1 Axes>"
      ]
     },
     "metadata": {},
     "output_type": "display_data"
    }
   ],
   "source": [
    "# Lets plot df2\n",
    "plt.style.use('dark_background')\n",
    "df2.plot(figsize=(10, 6))\n",
    "plt.ylabel('Frequency')"
   ]
  },
  {
   "cell_type": "code",
   "execution_count": 9,
   "metadata": {},
   "outputs": [
    {
     "data": {
      "text/plain": [
       "Text(0, 0.5, 'Frequency')"
      ]
     },
     "execution_count": 9,
     "metadata": {},
     "output_type": "execute_result"
    },
    {
     "data": {
      "image/png": "[encoded data removed]",
      "text/plain": [
       "<Figure size 720x432 with 1 Axes>"
      ]
     },
     "metadata": {},
     "output_type": "display_data"
    }
   ],
   "source": [
    "# And df3\n",
    "plt.style.use('dark_background')\n",
    "df3.plot(figsize=(10, 6))\n",
    "plt.ylabel('Frequency')"
   ]
  },
  {
   "cell_type": "code",
   "execution_count": null,
   "metadata": {},
   "outputs": [],
   "source": []
  }
 ],
 "metadata": {
  "kernelspec": {
   "display_name": "Python 3",
   "language": "python",
   "name": "python3"
  },
  "language_info": {
   "codemirror_mode": {
    "name": "ipython",
    "version": 3
   },
   "file_extension": ".py",
   "mimetype": "text/x-python",
   "name": "python",
   "nbconvert_exporter": "python",
   "pygments_lexer": "ipython3",
   "version": "3.8.5"
  }
 },
 "nbformat": 4,
 "nbformat_minor": 4
}
