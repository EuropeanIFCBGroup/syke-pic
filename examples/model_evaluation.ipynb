{
 "cells": [
  {
   "cell_type": "code",
   "execution_count": null,
   "metadata": {},
   "outputs": [],
   "source": [
    "from pathlib import Path\n",
    "\n",
    "from sykepic.analysis.viewer import PredictionViewer\n",
    "from sykepic.analysis.evaluation import parse_evaluations, best_thresholds"
   ]
  },
  {
   "cell_type": "code",
   "execution_count": null,
   "metadata": {},
   "outputs": [],
   "source": [
    "predictions = 'predictions/2018/08/01/D20180801T001652_IFCB114.csv'\n",
    "\n",
    "raw_dir = 'raw'\n",
    "\n",
    "work_dir = 'PredictionViewer'\n",
    "\n",
    "label = False\n",
    "\n",
    "evaluate = True\n",
    "\n",
    "thresholds = 'confidence_thresholds.txt'\n",
    "\n",
    "keep_images = False\n",
    "\n",
    "empty = 'unclassifiable'\n",
    "\n",
    "viewer = PredictionViewer(predictions, raw_dir, work_dir, label,\n",
    "                          evaluate, thresholds, empty, keep_images)"
   ]
  },
  {
   "cell_type": "code",
   "execution_count": null,
   "metadata": {
    "scrolled": false
   },
   "outputs": [],
   "source": [
    "per_page = 50\n",
    "\n",
    "sort_by_confidence = False\n",
    "\n",
    "sort_by_class = True\n",
    "\n",
    "ascending = False\n",
    "\n",
    "class_overview = False\n",
    "\n",
    "prediction_filter = ['Aphanothece_paralleliformis', 'Beads', \n",
    "                     'Chlorococcales','Chroococcales', \n",
    "                     'Chroococcus_small']\n",
    "\n",
    "# Useful for skipping some classes. Note however, that\n",
    "# this does affect the overall evaluation scores, i.e.,\n",
    "# there could be False Negatives for some other class\n",
    "# withing the skipped class's images.\n",
    "inverse_prediction_filter = True\n",
    "\n",
    "start_page = 1\n",
    "\n",
    "viewer.start(per_page, sort_by_confidence, sort_by_class, \n",
    "             ascending, class_overview, prediction_filter,\n",
    "             inverse_prediction_filter, start_page)"
   ]
  },
  {
   "cell_type": "code",
   "execution_count": null,
   "metadata": {},
   "outputs": [],
   "source": [
    "# Directory / Files with the evaluation selections.\n",
    "evaluations = Path(work_dir)/'evaluate'\n",
    "\n",
    "# Directory with the prediction CSVs.\n",
    "pred_dir = 'predictions'\n",
    "\n",
    "# Evaluate classifications based on various threshold values.\n",
    "threshold_search = False\n",
    "\n",
    "# Increment threshold search values by this amount. \n",
    "search_precision = 0.01\n",
    "\n",
    "# Returns a pandas.DataFrame with various classification measures\n",
    "scores = parse_evaluations(evaluations, pred_dir, thresholds,\n",
    "                           threshold_search, search_precision,\n",
    "                           empty)"
   ]
  },
  {
   "cell_type": "code",
   "execution_count": null,
   "metadata": {},
   "outputs": [],
   "source": [
    "scores"
   ]
  },
  {
   "cell_type": "code",
   "execution_count": null,
   "metadata": {},
   "outputs": [],
   "source": [
    "# When using `threshold_search`, uncomment and run the line below\n",
    "# to get the best class thresholds according to some criteria.\n",
    "\n",
    "# best_thresholds(scores, criteria='F1')"
   ]
  },
  {
   "cell_type": "code",
   "execution_count": null,
   "metadata": {},
   "outputs": [],
   "source": []
  }
 ],
 "metadata": {
  "kernelspec": {
   "display_name": "Python 3",
   "language": "python",
   "name": "python3"
  },
  "language_info": {
   "codemirror_mode": {
    "name": "ipython",
    "version": 3
   },
   "file_extension": ".py",
   "mimetype": "text/x-python",
   "name": "python",
   "nbconvert_exporter": "python",
   "pygments_lexer": "ipython3",
   "version": "3.8.5"
  }
 },
 "nbformat": 4,
 "nbformat_minor": 4
}
