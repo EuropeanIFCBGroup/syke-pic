{
 "cells": [
  {
   "cell_type": "code",
   "execution_count": 1,
   "metadata": {},
   "outputs": [],
   "source": [
    "from sykepic.analysis.viewer import PredictionViewer"
   ]
  },
  {
   "cell_type": "code",
   "execution_count": 2,
   "metadata": {},
   "outputs": [],
   "source": [
    "# PredictionViewer takes 2 required and 3 optional arguments\n",
    "\n",
    "# Required arguments\n",
    "\n",
    "# First argument is a path a prediction csv-file.  \n",
    "# prediction_csv = 'predictions/2018/07/03/D20180703T093453_IFCB114.csv'\n",
    "prediction_csv = '/home/otso/ifcb/2018_analysis/predictions_resnet18_20201022/2018/07/03/D20180703T093453_IFCB114.csv'\n",
    "\n",
    "# Second argument is a path to the root directory with raw IFCB data.\n",
    "raw_dir = 'raw'\n",
    "\n",
    "# Optional arguments\n",
    "\n",
    "# The default work_dir is ./PredictionViewer, when it is not specified.\n",
    "work_dir = 'PredictionViewer'\n",
    "\n",
    "# Use PredictonViewer for labeling new images.\n",
    "label = False\n",
    "\n",
    "# Use PredictonViewer for evaluting the CNN-model.\n",
    "evaluate = True\n",
    "\n",
    "# File with threholds\n",
    "thresholds = '/home/otso/ifcb/2018_analysis/final_thresholds.txt'\n",
    "\n",
    "# Setting this to True means that the extracted images will not be removed when program exits.\n",
    "# It might save some time but is not necessary.\n",
    "keep_images = False"
   ]
  },
  {
   "cell_type": "code",
   "execution_count": 3,
   "metadata": {
    "scrolled": false
   },
   "outputs": [],
   "source": [
    "# Create a PredictionViewer with the above arguments\n",
    "viewer = PredictionViewer(prediction_csv, raw_dir, work_dir, label, evaluate, thresholds, keep_images)"
   ]
  },
  {
   "cell_type": "code",
   "execution_count": 6,
   "metadata": {},
   "outputs": [],
   "source": [
    "# You call viewer.start() to start the program. It has a few optional arguments as well.\n",
    "\n",
    "# The number of images to display per page\n",
    "per_page = 52\n",
    "\n",
    "# Display images in the order of prediction confidence, which is the default.\n",
    "# Setting this to False would use the ROI order.\n",
    "sort_by_confidence = False\n",
    "\n",
    "sort_by_class = True\n",
    "\n",
    "# Sort order, i.e. when this is True, the lowest confidence predictions are show first.\n",
    "ascending = False\n",
    "\n",
    "# Show results only for a single class (string) or a list of classes (list of strings).\n",
    "prediction_filter = 'Aphanizomenon_flosaquae'\n",
    "\n",
    "# Show a dist of images for each class (max per_page)\n",
    "class_overview = False"
   ]
  },
  {
   "cell_type": "code",
   "execution_count": 7,
   "metadata": {
    "scrolled": false
   },
   "outputs": [
    {
     "data": {
      "application/vnd.jupyter.widget-view+json": {
       "model_id": "dab46ff35b9c4daf87b8d40505eced42",
       "version_major": 2,
       "version_minor": 0
      },
      "text/plain": [
       "Box(children=(Box(children=(Box(children=(Image(value=b'\\x89PNG\\r\\n\\x1a\\n\\x00\\x00\\x00\\rIHDR\\x00\\x00\\x00\\xc0\\x0…"
      ]
     },
     "metadata": {},
     "output_type": "display_data"
    },
    {
     "name": "stdout",
     "output_type": "stream",
     "text": [
      "Page 1 / 1\n"
     ]
    }
   ],
   "source": [
    "# Start the program\n",
    "viewer.start(per_page, sort_by_confidence, sort_by_class, ascending, prediction_filter, class_overview)"
   ]
  },
  {
   "cell_type": "code",
   "execution_count": null,
   "metadata": {},
   "outputs": [],
   "source": []
  }
 ],
 "metadata": {
  "kernelspec": {
   "display_name": "Python 3",
   "language": "python",
   "name": "python3"
  },
  "language_info": {
   "codemirror_mode": {
    "name": "ipython",
    "version": 3
   },
   "file_extension": ".py",
   "mimetype": "text/x-python",
   "name": "python",
   "nbconvert_exporter": "python",
   "pygments_lexer": "ipython3",
   "version": "3.8.5"
  }
 },
 "nbformat": 4,
 "nbformat_minor": 4
}
