{
 "cells": [
  {
   "cell_type": "markdown",
   "metadata": {},
   "source": [
    "### A few notes on the labeling process\n",
    "\n",
    "Labeling is done by selecting a class from the dropdown menu. Note that depending on the thresholds used, the images might already have a class value selected. This is to help speed up the process, but you can set the `thresholds` parameter (see below) to 1, to disable this.\n",
    "\n",
    "Each class that you select images for, gets a directory with the images in it. You can select the root directory for these class directories, when you click `End`. The class `New_Class` is intended to be a temporary name for a novel class not in the current listing. Be sure to manually rename the `New_Class` directory after use. \n",
    "\n",
    "When doing labeling, `work_dir` is not only the place where extracted images are stored, but it's also a place where files about the labeling progress are stored (`work_dir/label` directory). These progress files are sample specific, and contain information about which roi have been labeled and/or moved. This means, you can essentially use the same sample for labeling multiple times, since the progress files allow the program to skip previously labeled images. For this reason, it's probably a good idea to use the same `work_dir` every time."
   ]
  },
  {
   "cell_type": "code",
   "execution_count": null,
   "metadata": {},
   "outputs": [],
   "source": [
    "from sykepic.analysis.viewer import PredictionViewer"
   ]
  },
  {
   "cell_type": "code",
   "execution_count": null,
   "metadata": {},
   "outputs": [],
   "source": [
    "# Path to a prediction CSV-file that will be used for labeling.\n",
    "predictions = 'predictions/2018/07/03/D20180703T093453_IFCB114.csv'\n",
    "\n",
    "# Path to the root directory with raw IFCB data.\n",
    "raw_dir = 'raw'\n",
    "\n",
    "# Directory that is created for the extracted images and progress files.\n",
    "work_dir = 'PredictionViewer'\n",
    "\n",
    "# Use PredictonViewer for labeling.\n",
    "label = True\n",
    "\n",
    "# Use PredictonViewer for evaluation (see model_evaluation.ipynb).\n",
    "evaluate = False\n",
    "\n",
    "# Class specific thresholds that determine the minimum probability \n",
    "# required for a classification. It can be single float value (e.g. 0.7),\n",
    "# or a path to an exteranl file with class specific thresholds.\n",
    "thresholds = 'confidence_thresholds.txt'\n",
    "\n",
    "# Name used for unlabeled images (not important).\n",
    "empty = 'unclassifiable'\n",
    "\n",
    "# Don't remove extracted images when the program exits.\n",
    "keep_images = False\n",
    "\n",
    "# Create the viewer object\n",
    "viewer = PredictionViewer(predictions, raw_dir, work_dir, label,\n",
    "                          evaluate, thresholds, empty, keep_images)"
   ]
  },
  {
   "cell_type": "code",
   "execution_count": null,
   "metadata": {},
   "outputs": [],
   "source": [
    "# Call viewer.start() to start the program. It has a few optional arguments as well.\n",
    "\n",
    "# The number of images to display per page\n",
    "per_page = 20\n",
    "\n",
    "# Display images in the order of prediction confidence.\n",
    "sort_by_confidence = True\n",
    "\n",
    "# Display images in the order of predicted class.\n",
    "# Setting both `sort_by_confidence` and `sort_by_class` to False will order by the ROI number. \n",
    "sort_by_class = True\n",
    "\n",
    "# Sort in an ascending order\n",
    "ascending = False\n",
    "\n",
    "# Display each class on a separate page. If the number of images per class\n",
    "# is bigger than `per_page`, a representative sample of them will be selected.\n",
    "class_overview = False\n",
    "\n",
    "# Show only images, whose prediction match a class in this filter.\n",
    "# String or list of strings.\n",
    "prediction_filter = None\n",
    "\n",
    "# Discard classes with the above filter.\n",
    "inverse_prediction_filter = False\n",
    "\n",
    "# Select starting page\n",
    "start_page = 1\n",
    "\n",
    "# Start the program\n",
    "viewer.start(per_page, sort_by_confidence, sort_by_class, \n",
    "             ascending, class_overview, prediction_filter,\n",
    "             inverse_prediction_filter, start_page)"
   ]
  },
  {
   "cell_type": "code",
   "execution_count": null,
   "metadata": {},
   "outputs": [],
   "source": []
  }
 ],
 "metadata": {
  "kernelspec": {
   "display_name": "Python 3",
   "language": "python",
   "name": "python3"
  },
  "language_info": {
   "codemirror_mode": {
    "name": "ipython",
    "version": 3
   },
   "file_extension": ".py",
   "mimetype": "text/x-python",
   "name": "python",
   "nbconvert_exporter": "python",
   "pygments_lexer": "ipython3",
   "version": "3.8.5"
  }
 },
 "nbformat": 4,
 "nbformat_minor": 4
}
