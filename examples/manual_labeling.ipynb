{
 "cells": [
  {
   "cell_type": "code",
   "execution_count": null,
   "metadata": {},
   "outputs": [],
   "source": [
    "from sykepic.analysis.viewer import PredictionViewer"
   ]
  },
  {
   "cell_type": "code",
   "execution_count": null,
   "metadata": {},
   "outputs": [],
   "source": [
    "# PredictionViewer takes 2 required and 3 optional arguments\n",
    "\n",
    "# Required arguments\n",
    "\n",
    "# First argument is a path a prediction csv-file.  \n",
    "prediction_csv = 'predictions/2018/07/03/D20180703T093453_IFCB114.csv'\n",
    "\n",
    "# Second argument is a path to the root directory with raw IFCB data.\n",
    "raw_dir = 'raw'\n",
    "\n",
    "# Optional arguments\n",
    "\n",
    "# The default work_dir is ./PredictionViewer, when it is not specified.\n",
    "work_dir = 'PredictionViewer'\n",
    "\n",
    "# This determines whether PredictonViewer is used for inspection or labeling.\n",
    "# We want it to be True in this case.\n",
    "label = True\n",
    "\n",
    "# Setting this to True means that the extracted images will not be removed when program exits.\n",
    "# It might save some time but is not necessary.\n",
    "keep_images = False"
   ]
  },
  {
   "cell_type": "code",
   "execution_count": null,
   "metadata": {},
   "outputs": [],
   "source": [
    "# Create a PredictionViewer with the above arguments\n",
    "viewer = PredictionViewer(prediction_csv, raw_dir, work_dir, label, keep_images)"
   ]
  },
  {
   "cell_type": "code",
   "execution_count": null,
   "metadata": {},
   "outputs": [],
   "source": [
    "# You call viewer.start() to start the program. It has a few optional arguments as well.\n",
    "\n",
    "# The number of images to display per page\n",
    "per_page = 12\n",
    "\n",
    "# Class inspection is not available when labeling\n",
    "class_inspect = False\n",
    "\n",
    "# Display images in the order of prediction confidence, which is the default.\n",
    "# Setting this to False would use the ROI order.\n",
    "sort_by_confidence = True\n",
    "\n",
    "# Sort order, i.e. when this is True, the lowest confidence predictions are show first.\n",
    "ascending = True\n",
    "\n",
    "# Show results only for a single class (string) or a list of classes (list of strings).\n",
    "prediction_filter = None"
   ]
  },
  {
   "cell_type": "markdown",
   "metadata": {},
   "source": [
    "### A few notes on the labeling process\n",
    "\n",
    "When doing labeling, `work_dir` is not only the place where extracted images are stored.\n",
    "It is also a place where log-files about the labeling process are stored (`work_dir/.labeled` directory). These log files (or progress trackers) are sample specific, and contain information about which roi have been labeled.\n",
    "This means that you can essentially use the same sample for labeling multiple times, since the log makes sure not to show previously labeled images. For this reason, it's probably a good idea to use the same `work_dir` every time.\n",
    "\n",
    "Labeling is done by selecting a class from the dropdown menu. Each class that you select images, gets a directory with the images in it. You can select where these \"class directories\" are stored when you click `End`. The class `New_Class` is intended to be a temporary name for a novel class not in the current listing. Be sure to manually rename the `New_Class` directory after use. "
   ]
  },
  {
   "cell_type": "code",
   "execution_count": null,
   "metadata": {},
   "outputs": [],
   "source": [
    "# Start the program\n",
    "viewer.start(per_page, class_inspect, sort_by_confidence, ascending, prediction_filter)"
   ]
  },
  {
   "cell_type": "code",
   "execution_count": null,
   "metadata": {},
   "outputs": [],
   "source": []
  }
 ],
 "metadata": {
  "kernelspec": {
   "display_name": "Python 3",
   "language": "python",
   "name": "python3"
  },
  "language_info": {
   "codemirror_mode": {
    "name": "ipython",
    "version": 3
   },
   "file_extension": ".py",
   "mimetype": "text/x-python",
   "name": "python",
   "nbconvert_exporter": "python",
   "pygments_lexer": "ipython3",
   "version": "3.8.3"
  }
 },
 "nbformat": 4,
 "nbformat_minor": 4
}
